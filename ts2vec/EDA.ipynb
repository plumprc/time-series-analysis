{
 "cells": [
  {
   "cell_type": "code",
   "execution_count": 1,
   "metadata": {},
   "outputs": [],
   "source": [
    "# python -u train.py ETTh1 forecast_multivar --archive forecast_csv --repr-dims 320 --gpu 0 --seed 42 --eval\n",
    "# python -u train.py BME classification --archive UCR --repr-dims 320 --gpu 0 --seed 42 --eval\n",
    "import numpy as np\n",
    "import datautils\n",
    "from ts2vec import TS2Vec\n",
    "from sklearn.linear_model import Ridge\n",
    "from matplotlib import pyplot as plt"
   ]
  },
  {
   "cell_type": "code",
   "execution_count": 2,
   "metadata": {},
   "outputs": [],
   "source": [
    "def generate_pred_samples(features, data, pred_len, drop=0):\n",
    "    n = data.shape[1]\n",
    "    features = features[:, :-pred_len]\n",
    "    labels = np.stack([ data[:, i:1+n+i-pred_len] for i in range(pred_len)], axis=2)[:, 1:]\n",
    "    features = features[:, drop:]\n",
    "    labels = labels[:, drop:]\n",
    "    return features.reshape(-1, features.shape[-1]), \\\n",
    "            labels.reshape(-1, labels.shape[2]*labels.shape[3])\n",
    "\n",
    "def cal_metrics(pred, target):\n",
    "    return {\n",
    "        'MSE': ((pred - target) ** 2).mean(),\n",
    "        'MAE': np.abs(pred - target).mean()\n",
    "    }\n",
    "\n",
    "data, _, _, _, _, _, _ = datautils.load_forecast_csv('ETTh1')\n",
    "data = data[:,:1000,]\n",
    "\n",
    "model = TS2Vec(\n",
    "    input_dims=data.shape[-1],\n",
    "    device='cpu',\n",
    "    output_dims=320\n",
    ")\n",
    "\n",
    "model.load('datasets/model.pkl')\n",
    "all_repr = model.encode(\n",
    "    data,\n",
    "    casual=True,\n",
    "    sliding_length=1,\n",
    "    sliding_padding=200,\n",
    "    batch_size=256\n",
    ")"
   ]
  },
  {
   "cell_type": "code",
   "execution_count": 3,
   "metadata": {},
   "outputs": [],
   "source": [
    "train_data = data[:, :800, 13:]\n",
    "valid_data = data[:, 800:, 13:]\n",
    "train_repr = all_repr[:, :800]\n",
    "valid_repr = all_repr[:, 800:]"
   ]
  },
  {
   "cell_type": "code",
   "execution_count": 4,
   "metadata": {},
   "outputs": [],
   "source": [
    "n = valid_data.shape[1]\n",
    "pred_len = 24\n",
    "feat, label = generate_pred_samples(train_repr, train_data, pred_len)\n",
    "clf = Ridge(alpha=0.1).fit(feat, label)"
   ]
  },
  {
   "cell_type": "code",
   "execution_count": 5,
   "metadata": {},
   "outputs": [
    {
     "data": {
      "text/plain": [
       "{'MSE': 0.2722134568908309, 'MAE': 0.4184495388824482}"
      ]
     },
     "execution_count": 5,
     "metadata": {},
     "output_type": "execute_result"
    }
   ],
   "source": [
    "test_feat, test_label = generate_pred_samples(valid_repr, valid_data, pred_len)\n",
    "pred = clf.predict(test_feat)\n",
    "cal_metrics(pred, test_label)"
   ]
  },
  {
   "cell_type": "code",
   "execution_count": 9,
   "metadata": {},
   "outputs": [
    {
     "name": "stdout",
     "output_type": "stream",
     "text": [
      "{'MSE': 0.03668809880258489, 'MAE': 0.1393430842475272}\n"
     ]
    },
    {
     "data": {
      "image/png": "[encoded data removed]",
      "text/plain": [
       "<Figure size 432x288 with 1 Axes>"
      ]
     },
     "metadata": {
      "needs_background": "light"
     },
     "output_type": "display_data"
    }
   ],
   "source": [
    "print(cal_metrics(pred[0], valid_data.reshape(-1)[1:pred_len+1]))\n",
    "plt.plot(valid_data.reshape(-1)[1:pred_len+1])\n",
    "plt.plot(pred[0])\n",
    "plt.show()"
   ]
  },
  {
   "cell_type": "code",
   "execution_count": null,
   "metadata": {},
   "outputs": [],
   "source": []
  }
 ],
 "metadata": {
  "interpreter": {
   "hash": "b09ec625f77bf4fd762565a912b97636504ad6ec901eb2d0f4cf5a7de23e1ee5"
  },
  "kernelspec": {
   "display_name": "Python 3.7.3 ('base')",
   "language": "python",
   "name": "python3"
  },
  "language_info": {
   "codemirror_mode": {
    "name": "ipython",
    "version": 3
   },
   "file_extension": ".py",
   "mimetype": "text/x-python",
   "name": "python",
   "nbconvert_exporter": "python",
   "pygments_lexer": "ipython3",
   "version": "3.7.3"
  },
  "orig_nbformat": 4
 },
 "nbformat": 4,
 "nbformat_minor": 2
}
